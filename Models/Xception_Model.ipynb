{
 "cells": [
  {
   "cell_type": "code",
   "execution_count": null,
   "metadata": {},
   "outputs": [],
   "source": [
    "import pandas as pd\n",
    "\n",
    "# Path to the original CSV file\n",
    "csv_file_path = '/content/Issues_Collected_category and issue - Issues consolidatd (1).csv'\n",
    "\n",
    "# Read the original CSV file\n",
    "df = pd.read_csv(csv_file_path)\n",
    "\n",
    "# Calculate the number of unique categories and issue types\n",
    "num_categories = len(df['Category'].unique())\n",
    "num_subcategories = len(df['Issue type'].unique())\n",
    "\n",
    "print(\"Number of categories:\", num_categories)\n",
    "print(\"Number of sub-categories:\", num_subcategories)\n"
   ]
  },
  {
   "cell_type": "code",
   "execution_count": null,
   "metadata": {},
   "outputs": [],
   "source": [
    "df.head()"
   ]
  },
  {
   "cell_type": "code",
   "execution_count": null,
   "metadata": {},
   "outputs": [],
   "source": [
    "# Print all unique issue types\n",
    "unique_issue_types = df[\"Issue type\"].unique()\n",
    "print(\"Unique Issue Types:\")\n",
    "print(unique_issue_types)\n",
    "\n",
    "# Print the count of each issue type\n",
    "issue_type_counts = df[\"Issue type\"].value_counts()\n",
    "print(\"Issue Type Counts:\")\n",
    "print(issue_type_counts)"
   ]
  },
  {
   "cell_type": "code",
   "execution_count": null,
   "metadata": {},
   "outputs": [],
   "source": [
    "import pickle\n",
    "\n",
    "import pandas as pd\n",
    "from tensorflow.keras.preprocessing.image import load_img, img_to_array\n",
    "from tensorflow.keras.applications.xception import Xception, preprocess_input\n",
    "from tensorflow.keras.layers import Dense\n",
    "from tensorflow.keras.models import Model\n",
    "from tensorflow.keras.utils import to_categorical\n",
    "from sklearn.preprocessing import LabelEncoder\n",
    "from tensorflow.keras.optimizers import Adam\n",
    "import cv2\n",
    "import numpy as np\n",
    "\n",
    "# Load labels\n",
    "df = pd.read_csv('/content/Issues_Collected_category and issue - Issues consolidatd (1).csv')\n",
    "labels = df['Issue type'].values\n",
    "photos = df['Photo'].values\n",
    "\n",
    "# Convert labels to numerical values\n",
    "le = LabelEncoder()\n",
    "labels = le.fit_transform(labels)\n",
    "\n",
    "with open('label_encoder.pkl', 'wb') as f:\n",
    "    pickle.dump(le, f)\n",
    "\n",
    "# Preprocess images\n",
    "image_list = []\n",
    "for photo in photos:\n",
    "    image = load_img('/content/drive/MyDrive/Photos_Walking Audit/' + photo, target_size=(299, 299))\n",
    "    image = img_to_array(image)\n",
    "    image = preprocess_input(image)\n",
    "    image_list.append(image)\n",
    "images = np.array(image_list)\n",
    "\n",
    "# Define the model\n",
    "base_model = Xception(include_top=False, weights='imagenet', input_shape=(299, 299, 3), pooling='avg')\n",
    "output = Dense(len(le.classes_), activation='softmax')(base_model.output)\n",
    "model = Model(inputs=base_model.input, outputs=output)\n",
    "\n",
    "# Compile the model\n",
    "model.compile(optimizer=Adam(), loss='sparse_categorical_crossentropy', metrics=['accuracy'])\n",
    "\n",
    "# Train the model\n",
    "model.fit(images, labels, epochs=10, validation_split=0.2)\n",
    "\n",
    "# Save the model\n",
    "model.save('xception_model.h5')\n"
   ]
  }
 ],
 "metadata": {
  "language_info": {
   "name": "python"
  },
  "orig_nbformat": 4
 },
 "nbformat": 4,
 "nbformat_minor": 2
}
