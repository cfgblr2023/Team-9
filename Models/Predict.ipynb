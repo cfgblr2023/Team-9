{
  "nbformat": 4,
  "nbformat_minor": 0,
  "metadata": {
    "colab": {
      "provenance": []
    },
    "kernelspec": {
      "name": "python3",
      "display_name": "Python 3"
    },
    "language_info": {
      "name": "python"
    }
  },
  "cells": [
    {
      "cell_type": "code",
      "execution_count": 13,
      "metadata": {
        "colab": {
          "base_uri": "https://localhost:8080/"
        },
        "id": "WmR9gH1kJqfN",
        "outputId": "81716fdc-71f0-4be1-ae69-05ae1970930c"
      },
      "outputs": [
        {
          "output_type": "stream",
          "name": "stdout",
          "text": [
            "1/1 [==============================] - 1s 1s/step\n",
            "0\n",
            "['Broken footpath']\n",
            "['Level difference']\n",
            "['Garbage vulnerable point']\n"
          ]
        }
      ],
      "source": [
        "import pandas as pd\n",
        "from sklearn.preprocessing import LabelEncoder\n",
        "from tensorflow.keras.models import load_model\n",
        "from tensorflow.keras.preprocessing.image import load_img, img_to_array\n",
        "from tensorflow.keras.applications.xception import preprocess_input\n",
        "import matplotlib.pyplot as plt\n",
        "import numpy as np\n",
        "\n",
        "# Load the trained model\n",
        "model = load_model('/content/drive/MyDrive/xception_model.h5')\n",
        "\n",
        "# Load the image you want to make a prediction on\n",
        "image_path = '/content/drive/MyDrive/Walking/20230326_082333.jpg'  # replace this with your image path\n",
        "image = load_img(image_path, target_size=(299, 299))\n",
        "image = img_to_array(image)\n",
        "image = preprocess_input(image)\n",
        "image = np.expand_dims(image, axis=0)  # Model expects images in a batch, so we add an extra dimension\n",
        "\n",
        "df = pd.read_csv('/content/drive/MyDrive/Issues_Collected_category and issue - Issues consolidatd.csv')\n",
        "labels = df['Issue type'].values\n",
        "le = LabelEncoder()\n",
        "labels = le.fit_transform(labels)\n",
        "\n",
        "# Make a prediction\n",
        "predictions = model.predict(image)\n",
        "\n",
        "\n",
        "# Get the class with highest probability\n",
        "sorted_indices = np.argsort(predictions[0])\n",
        "\n",
        "predicted_class = sorted_indices[-1]\n",
        "predicted_class2 = sorted_indices[-2]\n",
        "predicted_class3 = sorted_indices[-3]\n",
        "\n",
        "\n",
        "\n",
        "# Print the class\n",
        "print(predicted_class)\n",
        "print(le.inverse_transform([predicted_class]))\n",
        "print(le.inverse_transform([predicted_class2]))\n",
        "print(le.inverse_transform([predicted_class3]))\n",
        "\n"
      ]
    }
  ]
}